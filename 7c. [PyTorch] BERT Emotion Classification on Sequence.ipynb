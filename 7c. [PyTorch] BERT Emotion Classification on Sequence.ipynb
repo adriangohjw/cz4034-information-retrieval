{
 "cells": [
  {
   "cell_type": "code",
   "execution_count": 1,
   "id": "superior-savannah",
   "metadata": {},
   "outputs": [],
   "source": [
    "import pandas as pd\n",
    "import torch\n",
    "from tqdm import tqdm\n",
    "torch.cuda.empty_cache()\n",
    "import numpy as np\n",
    "from sklearn.metrics import f1_score\n",
    "\n",
    "from torch.utils.data import TensorDataset\n",
    "from transformers import BertTokenizer\n",
    "\n",
    "from transformers import BertForSequenceClassification\n",
    "from torch.utils.data import DataLoader, RandomSampler, SequentialSampler\n",
    "import time\n"
   ]
  },
  {
   "cell_type": "code",
   "execution_count": 2,
   "id": "authentic-enlargement",
   "metadata": {},
   "outputs": [],
   "source": [
    "labels_dict = {'ANGRY':0, \n",
    "          'DISGUST':1, \n",
    "          'FEAR':2, \n",
    "          'HAPPY':3, \n",
    "          'SAD':4, \n",
    "          'SURPRISE':5}\n",
    "\n",
    "# Enter your sequence here:\n",
    "sequence = [\n",
    "    \"I'M SO GONNA KILL YOU YOU PRICK!!!\",\n",
    "    \"Yucks.. gross...\",\n",
    "    \"I'm hiding at home till this is over.\",\n",
    "    'I LOVE DONUTS',\n",
    "    \"A pity... a pity.\",\n",
    "    \"WHAT?! When did this happen!!!\"    \n",
    "]"
   ]
  },
  {
   "cell_type": "code",
   "execution_count": 3,
   "id": "electric-basin",
   "metadata": {},
   "outputs": [],
   "source": [
    "# Create tokenizer object\n",
    "tokenizer = BertTokenizer.from_pretrained('bert-base-uncased',\n",
    "                                          do_lower_case=True)"
   ]
  },
  {
   "cell_type": "code",
   "execution_count": 4,
   "id": "maritime-sister",
   "metadata": {},
   "outputs": [
    {
     "name": "stderr",
     "output_type": "stream",
     "text": [
      "Some weights of the model checkpoint at bert-base-uncased were not used when initializing BertForSequenceClassification: ['cls.predictions.bias', 'cls.predictions.transform.dense.weight', 'cls.predictions.transform.dense.bias', 'cls.predictions.decoder.weight', 'cls.seq_relationship.weight', 'cls.seq_relationship.bias', 'cls.predictions.transform.LayerNorm.weight', 'cls.predictions.transform.LayerNorm.bias']\n",
      "- This IS expected if you are initializing BertForSequenceClassification from the checkpoint of a model trained on another task or with another architecture (e.g. initializing a BertForSequenceClassification model from a BertForPreTraining model).\n",
      "- This IS NOT expected if you are initializing BertForSequenceClassification from the checkpoint of a model that you expect to be exactly identical (initializing a BertForSequenceClassification model from a BertForSequenceClassification model).\n",
      "Some weights of BertForSequenceClassification were not initialized from the model checkpoint at bert-base-uncased and are newly initialized: ['classifier.weight', 'classifier.bias']\n",
      "You should probably TRAIN this model on a down-stream task to be able to use it for predictions and inference.\n"
     ]
    },
    {
     "data": {
      "text/plain": [
       "<All keys matched successfully>"
      ]
     },
     "execution_count": 4,
     "metadata": {},
     "output_type": "execute_result"
    }
   ],
   "source": [
    "# Create model and load weights\n",
    "model = BertForSequenceClassification.from_pretrained('bert-base-uncased',\n",
    "                                                      num_labels = 6,\n",
    "                                                      output_attentions=False,\n",
    "                                                      output_hidden_states=False)\n",
    "PATH = './bert emotion/BERT_emotion_epoch_10.pt'\n",
    "model.load_state_dict(torch.load(PATH, map_location=torch.device('cpu')), strict=False)"
   ]
  },
  {
   "cell_type": "code",
   "execution_count": 5,
   "id": "ambient-warner",
   "metadata": {},
   "outputs": [
    {
     "name": "stdout",
     "output_type": "stream",
     "text": [
      "cuda\n"
     ]
    }
   ],
   "source": [
    "device = torch.device('cuda' if torch.cuda.is_available() else 'cpu')\n",
    "model.to(device)\n",
    "\n",
    "print(device)"
   ]
  },
  {
   "cell_type": "code",
   "execution_count": 6,
   "id": "subjective-employee",
   "metadata": {},
   "outputs": [],
   "source": [
    "def evaluate(valid_dataloader):\n",
    "    model.eval()\n",
    "\n",
    "    total_eval_loss = 0\n",
    "    y_hat, y = [], []\n",
    "\n",
    "    for batch in tqdm(valid_dataloader):\n",
    "        batch = tuple(b.to(device) for b in batch)\n",
    "\n",
    "        inputs = {'input_ids' : batch[0],\n",
    "                'attention_mask': batch[1],\n",
    "                'labels' : batch[2]\n",
    "                }\n",
    "        \n",
    "        with torch.no_grad():\n",
    "            outputs = model(**inputs)\n",
    "\n",
    "        loss = outputs[0]\n",
    "        logits = outputs[1]\n",
    "        total_eval_loss += loss.item()\n",
    "\n",
    "        logits = logits.detach().cpu().numpy()\n",
    "        label_ids = inputs['labels'].cpu().numpy()\n",
    "        y_hat.append(logits)\n",
    "        y.append(label_ids)\n",
    "\n",
    "    avg_eval_loss = total_eval_loss/len(valid_dataloader) \n",
    "\n",
    "    y_hat = np.concatenate(y_hat, axis=0)\n",
    "    y = np.concatenate(y, axis=0)\n",
    "            \n",
    "    return avg_eval_loss, y_hat, y"
   ]
  },
  {
   "cell_type": "code",
   "execution_count": 7,
   "id": "isolated-boutique",
   "metadata": {},
   "outputs": [],
   "source": [
    "valid_encode = tokenizer.batch_encode_plus(\n",
    "    sequence,\n",
    "    padding=True,\n",
    "    truncation=True,\n",
    "    add_special_tokens=True,\n",
    "    max_length=256,   \n",
    "    return_tensors='pt'\n",
    ")\n",
    "valid_input = valid_encode['input_ids']\n",
    "valid_attention = valid_encode['attention_mask']\n",
    "# The line below is a hack. I'm not entirely sure how to work\n",
    "# with PyTorch to predict using purely a sequence.\n",
    "labels = [0]*len(valid_input)\n",
    "valid_labels = torch.tensor(labels)\n",
    "\n",
    "valid_data = TensorDataset(valid_input,\n",
    "                          valid_attention,\n",
    "                        valid_labels)\n",
    "\n",
    "valid_dataloader = DataLoader(valid_data,\n",
    "                              sampler = SequentialSampler(valid_data),\n",
    "                              batch_size = 8)\n"
   ]
  },
  {
   "cell_type": "code",
   "execution_count": 8,
   "id": "challenging-keyboard",
   "metadata": {},
   "outputs": [
    {
     "name": "stderr",
     "output_type": "stream",
     "text": [
      "100%|████████████████████████████████████████████████████████████████████████████████████| 1/1 [00:00<00:00,  2.80it/s]\n"
     ]
    }
   ],
   "source": [
    "# Actual prediction happens here\n",
    "_, predictions, actual = evaluate(valid_dataloader)\n"
   ]
  },
  {
   "cell_type": "code",
   "execution_count": 10,
   "id": "lucky-explorer",
   "metadata": {},
   "outputs": [
    {
     "name": "stderr",
     "output_type": "stream",
     "text": [
      "100%|██████████████████████████████████████████████████████████████████████████████████| 6/6 [00:00<00:00, 6003.30it/s]"
     ]
    },
    {
     "name": "stdout",
     "output_type": "stream",
     "text": [
      "Label: ANGRY, Sequence:I'M SO GONNA KILL YOU YOU PRICK!!!\n",
      "\n",
      "Label: DISGUST, Sequence:Yucks.. gross...\n",
      "\n",
      "Label: FEAR, Sequence:I'm hiding at home till this is over.\n",
      "\n",
      "Label: HAPPY, Sequence:I LOVE DONUTS\n",
      "\n",
      "Label: SAD, Sequence:A pity... a pity.\n",
      "\n",
      "Label: SURPRISE, Sequence:WHAT?! When did this happen!!!\n",
      "\n"
     ]
    },
    {
     "name": "stderr",
     "output_type": "stream",
     "text": [
      "\n"
     ]
    }
   ],
   "source": [
    "# Printing of labels sequence \n",
    "labs = {v:k for k,v in labels_dict.items()}\n",
    "for i in tqdm(range(len(predictions))):\n",
    "    print('Label: {}, Sequence:{}'.format(labs[np.argmax(predictions[i])], sequence[i]))\n",
    "    print()"
   ]
  },
  {
   "cell_type": "code",
   "execution_count": null,
   "id": "tight-order",
   "metadata": {},
   "outputs": [],
   "source": []
  }
 ],
 "metadata": {
  "kernelspec": {
   "display_name": "Python 3",
   "language": "python",
   "name": "python3"
  },
  "language_info": {
   "codemirror_mode": {
    "name": "ipython",
    "version": 3
   },
   "file_extension": ".py",
   "mimetype": "text/x-python",
   "name": "python",
   "nbconvert_exporter": "python",
   "pygments_lexer": "ipython3",
   "version": "3.7.9"
  }
 },
 "nbformat": 4,
 "nbformat_minor": 5
}
